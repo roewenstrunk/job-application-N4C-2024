{
  "metadata": {
    "kernelspec": {
      "name": "python",
      "display_name": "Python (Pyodide)",
      "language": "python"
    },
    "language_info": {
      "codemirror_mode": {
        "name": "python",
        "version": 3
      },
      "file_extension": ".py",
      "mimetype": "text/x-python",
      "name": "python",
      "nbconvert_exporter": "python",
      "pygments_lexer": "ipython3",
      "version": "3.8"
    }
  },
  "nbformat_minor": 5,
  "nbformat": 4,
  "cells": [
    {
      "id": "c6eb624e-3489-42dc-87d0-8093b65a18f4",
      "cell_type": "markdown",
      "source": "\n# Bewerbung NFDI4Culture\n\nDie Aufgabe besteht aus zwei Abschnitten: 1. Einschätzung einer Anfrage zur Nachhaltigkeit einer Webanwendung und 2. Analyse und Weiterentwicklung eines kleinen Scripts\n\nBitte gehen Sie auf https://jupyter.org/try-jupyter/lab/ und öffnen Sie über das Menü \"File\" / \"Open from URL\" das Notebook mit dieser URL: https://raw.githubusercontent.com/roewenstrunk/job-application-N4C-2024/main/BewerbungNFDI4Culture.ipynb\n\nBitte versuchen Sie die beiden Aufgaben zu bearbeiten. Es geht dabei nicht darum, dass Sie perfekte Antworten oder Lösungen finden. Für uns geht es vielmehr darum, eine Einschätzung zu bekommen, inwieweit Sie sich in die für uns relevanten Sachverhalte hineinversetzen können.",
      "metadata": {
        "tags": [],
        "editable": true,
        "slideshow": {
          "slide_type": ""
        }
      }
    },
    {
      "id": "1812dac3-736d-4cee-b456-b085b305ae99",
      "cell_type": "markdown",
      "source": "## Nachhaltigkeit der digitalen Edition \"Verdi-Requiem\"\n\nDie digitale Edition \"Verdi-Requiem\" stellt wissenschaftliche Informationen zu historischen Zeitungsartikeln zur Rezeption von Guiseppe Verdis \"Messa da Requiem\" zusammen. Sie müssen den Inhalt dieser Edition nicht verstehen. Die Herausforderung, die in diesem Kontext an uns herangetragen wurde, ist, dass die Webseite, auf der die Edition zu sehen war, in PHP mit einer SQL Datenbank programmiert war und nun nicht mehr lauffähig ist. Die Frage, die der Kollege an uns gestellt hat, lautete: \"Welche Maßnahmen kann ich ergreifen, damit die Forschungsergebnisse langfristig und nachhaltig verfügbar bleiben?\"\n\nBitte schreiben Sie stichwortartig auf, welche Maßnahmen Ihnen spontan einfallen:",
      "metadata": {}
    },
    {
      "id": "13027910-64b1-40f3-9d90-bb42bcabeff4",
      "cell_type": "markdown",
      "source": "### Maßnahmen für eine verbesserte Nachhaltigkeit\n\n*\n*\n",
      "metadata": {}
    },
    {
      "id": "c4527dfe-a3c4-474d-9aff-21eeb3d07d08",
      "cell_type": "markdown",
      "source": "Eine der Maßnahmen, die wir dem Kollegen empfohlen haben, ist, die Webanwendung in statische HTML-Seiten zu überführen. Dadurch, dass die Webseite dann ohne eine Programmiersprache wie PHP auf einem Server auskommt, werden Abhängigkeiten reduziert und die Gefahr, dass der Server aufgrund von Problemen mit PHP nicht mehr läuft, wird minimiert.\n\nBitte beschreiben Sie in Stichworten, welche Probleme mit dieser Maßnahme einhergehen könnten:",
      "metadata": {}
    },
    {
      "id": "21669003-1907-4b56-b11c-285bf9a45639",
      "cell_type": "markdown",
      "source": "### Probleme mit der Überführung in statische HTML-Seiten\n\n*\n*\n",
      "metadata": {}
    },
    {
      "id": "4cf98525-2dff-45c6-859a-0b0b6260f724",
      "cell_type": "markdown",
      "source": "## Analyse und Weiterentwicklung eines Scripts\n\n(Falls Sie sich noch nicht mit Jupyter-Notebooks auskennen sollten, können Sie unter https://www.dataquest.io/blog/jupyter-notebook-tutorial/ mal ein Tutorial ansehen. Für den Moment reicht es aber zu wissen, dass die einzelnen Abschnitte in einem Jupyter-Notebook ausführbaren Python Code enthalten können. In den folgenden Abschnitten finden Sie Python Code. Sie können diesen Verändern und über den \"Play\"-Button ausführen, wenn der Cursor in dem Abschnitt steht.)\n\nDas folgende Script hat die Aufgabe, eine XML-Datei mit einem musikalischen Beispiel auf eine neuere Version des musikwissenschaftlichen Standards der Music Encoding Initiative zu transferieren.\n\nLeider hat der Entwickler des Scripts keine Kommentare in den Quelltext geschrieben. Bitte ergänzen Sie knappe Beschreibungen dessen, was das Script im Einzelnen tut.\n\nLeider hat der Entwickler auch noch einen Fehler beim Schreiben des Scripts gemacht. Bitte finden und korrigieren Sie den Fehler im Script. Das Script soll lauffähig sein.\n\nSie werden beim Output feststellen, dass der Konvertierungsservice \"MEIGarage\", der für die Transformation genutzt wird, bereits ein eigenes \"change\"-Element in den Quelltext geschrieben hat. Ändern Sie das Script so, dass nicht ein neues \"change\"-Element angelegt wird, sondern das von der MEIGarage geschriebene um den eigenen Text ergänzt wird.\n\nHinweis: Wenn Sie im Output des Scripts suchen wollen, müssen Sie bei der Suche den Filter \"Search Cell Outputs\" anschalten.",
      "metadata": {}
    },
    {
      "id": "4d0ef4e1-5e2d-4eab-8eab-f64e5b6e412c",
      "cell_type": "code",
      "source": "import requests\nfrom os import listdir\nimport xml.etree.ElementTree as ET\nimport lxml\nfrom bs4 import BeautifulSoup\n\nnamespaces = {'mei': 'http://www.music-encoding.org/ns/mei'}\nET.register_namespace('mei', 'http://www.music-encoding.org/ns/mei')\n\nmeigarage = 'https://meigarage.edirom.de/ege-webservice/Conversions/mei30%3Atext%3Axml/mei40%3Atext%3Axml/'\n\ndef transformToMEI4(xml):\n    files = {'fileToConvert': xml}\n    r = requests.post(meigarage, files=files)\n    return r.text\n\ndef addChangeElem(xml, desc):\n    root = ET.fromstring(xml)\n\n    # change\n    counter = str(len(root.findall(\"./mei:meiHead/mei:revisionDesc/mei:change\", namespaces)) + 1)\n    elementChange = ET.Element(\"{http://www.music-encoding.org/ns/mei}change\", attrib={\"n\": counter})\n    root.find(\"./mei:meiHead/mei:revisionDesc\", namespaces).append(elementChange)\n\n    # change/changeDesc\n    elementChangeDesc = ET.Element(\"{http://www.music-encoding.org/ns/mei}changeDesc\", attrib={})\n    root.find(\"./mei:meiHead/mei:revisionDesc/mei:change[last()]\", namespaces).append(elementChangeDesc)\n\n    # change/changeDesc/p\n    elementP = ET.Element(\"{http://www.music-encoding.org/ns/mei}p\", attrib={}, text=desc)\n    root.find(\"./mei:meiHead/mei:revisionDesc/mei:change[last()]/mei:changeDesc\", namespaces).append(elementP)\n\n    # change/date\n    elementDate = ET.Element(\"{http://www.music-encoding.org/ns/mei}date\", attrib={\"isodate\": \"2024-08-14\"})\n    root.find(\"./mei:meiHead/mei:revisionDesc/mei:change[last()]\", namespaces).append(elementDate)\n\n    return ET.tostring(root)\n\n\nr = requests.get('https://raw.githubusercontent.com/music-encoding/sample-encodings/main/MEI_3.0/Music/Complete_examples/Chopin_Mazurka.mei')\nmazurka3 = r.text\n\nmazurka4 = transformToMEI4(mazurka3)\n\nmazurka4 = addChangeElem(mazurka4, \"Konvertiert von NAME mit MEIGarage zu MEI 4.0.1\")\n\nbs = BeautifulSoup(mazurka4_0_1, 'lxml-xml')\nprint(bs.prettify())",
      "metadata": {
        "trusted": true
      },
      "outputs": [],
      "execution_count": null
    }
  ]
}